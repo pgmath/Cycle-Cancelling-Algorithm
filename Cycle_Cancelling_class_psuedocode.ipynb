{
  "nbformat": 4,
  "nbformat_minor": 0,
  "metadata": {
    "colab": {
      "provenance": []
    },
    "kernelspec": {
      "name": "python3",
      "display_name": "Python 3"
    },
    "language_info": {
      "name": "python"
    }
  },
  "cells": [
    {
      "cell_type": "markdown",
      "source": [
        "Psuedocode example below"
      ],
      "metadata": {
        "id": "xfAGLwcktHu4"
      }
    },
    {
      "cell_type": "code",
      "source": [
        "def FICO_preflow_push(mf_problem_data)\n",
        "    # uses the FICO Preflow push algorithm to solve the max flow problem\n",
        "    return init_feasible_solution\n",
        "def FIFO_label_correcting(mf_problem_data)\n",
        "    # uses the FICO label correcting algorithm to find negative cycles\n",
        "    if neg_cost_cycle=true:\n",
        "            return neg_cost_cycle\n",
        "        else return opt_sol"
      ],
      "metadata": {
        "id": "MyB4kG99rb6V"
      },
      "execution_count": null,
      "outputs": []
    },
    {
      "cell_type": "code",
      "execution_count": null,
      "metadata": {
        "id": "wRjNe36XmtJz"
      },
      "outputs": [],
      "source": [
        "class CycleCancelling(object):\n",
        "    def __init__(self, problem_data):\n",
        "            #initializes the object\n",
        "        return\n",
        "    def maxflow_converter(self, problem_data):\n",
        "        # converts the problem into a max flow problem\n",
        "        return mf_problem_data\n",
        "    def maxflow_solver(self, mf_problem_data, mf_algorithm=FICO_preflow_push):\n",
        "        # outputs the initial feasible solution from the max flow problem\n",
        "        return init_feasible_solution\n",
        "    def resgraph_update(self, init_feasible_solution):\n",
        "        # generates an array to represent the residual graph with the\n",
        "        # initial feasible solution as the input\n",
        "        return res_graph_array\n",
        "    def neg_cost_cycle_finder(self, res_graph_array, ng_cost_algorithm=FIFO_label_correcting)\n",
        "        # finds a negative cycle in the residual graph and outputs it\n",
        "        # if no negative cost cycle is found, output current solution as optimal\n",
        "        if neg_cost_cycle=true:\n",
        "            return neg_cost_cycle\n",
        "        else return opt_sol\n",
        "    def flow_augmentation(self, neg_cost_cycle, res_graph_array)\n",
        "        # augments flow in the graph and sets the res_graph_array to the new\n",
        "        # augmented values\n",
        "        res_graph_array = augmented_graph\n",
        "        return res_graph_array\n",
        "    def solve(self, problem data, mf_algorithm=FICO_preflow_push, ng_cost_algorithm=FIFO_label_correcting)\n",
        "        # solved problem with selected options\n",
        "        return opt_sol\n",
        "\n",
        "\n",
        "\n",
        ""
      ]
    }
  ]
}